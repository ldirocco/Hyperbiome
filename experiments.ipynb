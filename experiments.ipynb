{
 "cells": [
  {
   "metadata": {
    "ExecuteTime": {
     "end_time": "2025-09-07T09:35:07.479522Z",
     "start_time": "2025-09-07T09:35:06.513800Z"
    }
   },
   "cell_type": "code",
   "source": [
    "import torch\n",
    "B = 4           # batch size\n",
    "n_species = 6   # numero specie\n",
    "n_genus = 3     # numero generi\n",
    "embed_dim = 5\n",
    "\n",
    "X = torch.randn(B, embed_dim)\n",
    "print(X)\n",
    "species_proxies = torch.randn(n_species, embed_dim)\n",
    "print(species_proxies)\n",
    "genus_proxies = torch.randn(n_genus, embed_dim)\n",
    "print(genus_proxies)"
   ],
   "id": "43ca6dee66cd6096",
   "outputs": [
    {
     "name": "stdout",
     "output_type": "stream",
     "text": [
      "tensor([[ 1.1630, -0.1556,  2.4210, -1.1831, -1.2614],\n",
      "        [-0.7722, -0.4927,  0.2562, -0.9164,  1.2938],\n",
      "        [ 0.6793,  1.4275,  0.1416,  1.6654,  1.0798],\n",
      "        [ 0.3880, -0.0432, -1.1535, -0.6715,  2.0107]])\n",
      "tensor([[-0.1966,  0.8050, -2.5530, -1.3111,  0.2671],\n",
      "        [-0.9903,  0.6585, -0.0440, -0.1695,  0.7622],\n",
      "        [ 0.4498,  0.5775, -0.4006, -1.3843,  0.1816],\n",
      "        [-0.7435, -0.0347, -0.8803,  0.6105,  1.3529],\n",
      "        [ 0.8438, -1.1485,  2.9973,  0.1097, -2.6894],\n",
      "        [ 0.2802, -1.6968,  0.7423,  1.9205, -0.2709]])\n",
      "tensor([[ 0.2908, -0.5686,  0.7238, -1.1722,  0.9676],\n",
      "        [ 0.9029,  0.5301, -0.5790, -0.3187, -0.0518],\n",
      "        [ 2.0562,  0.2680, -0.3042, -1.1506, -0.4365]])\n"
     ]
    }
   ],
   "execution_count": 1
  },
  {
   "metadata": {
    "ExecuteTime": {
     "end_time": "2025-09-07T10:28:09.379385Z",
     "start_time": "2025-09-07T10:28:09.080360Z"
    }
   },
   "cell_type": "code",
   "source": [
    "import src.poincare_math as pmath\n",
    "\n",
    "dist_genus= pmath.dist_matrix(species_proxies, genus_proxies, 0.01)\n",
    "print(dist_genus)"
   ],
   "id": "5cbca1d570ce9b2c",
   "outputs": [
    {
     "name": "stdout",
     "output_type": "stream",
     "text": [
      "tensor([[ 7.6089,  5.2296,  7.0049],\n",
      "        [ 4.4559,  4.3201,  7.0396],\n",
      "        [ 3.7030,  2.4360,  3.6717],\n",
      "        [ 5.5058,  4.9575,  7.8114],\n",
      "        [ 9.8591, 10.1871, 10.0343],\n",
      "        [ 7.2659,  7.1441,  8.6978]])\n"
     ]
    }
   ],
   "execution_count": 2
  },
  {
   "metadata": {},
   "cell_type": "markdown",
   "source": "",
   "id": "da6500e97bc41e6c"
  },
  {
   "metadata": {
    "ExecuteTime": {
     "end_time": "2025-09-07T14:56:13.428529Z",
     "start_time": "2025-09-07T14:56:13.423597Z"
    }
   },
   "cell_type": "code",
   "source": [
    "# Da qui\n",
    "\n",
    "\n",
    "T_species = torch.randint(0, 150, (8,))\n",
    "T_species"
   ],
   "id": "37a7a6088fdc2017",
   "outputs": [
    {
     "data": {
      "text/plain": [
       "tensor([  8, 147,  48, 117, 141, 135, 122, 142])"
      ]
     },
     "execution_count": 41,
     "metadata": {},
     "output_type": "execute_result"
    }
   ],
   "execution_count": 41
  },
  {
   "metadata": {
    "ExecuteTime": {
     "end_time": "2025-09-07T14:56:34.120307Z",
     "start_time": "2025-09-07T14:56:34.117592Z"
    }
   },
   "cell_type": "code",
   "source": "species_proxies = torch.randn(150, embed_dim)",
   "id": "6439526bcb2837f7",
   "outputs": [],
   "execution_count": 44
  },
  {
   "metadata": {
    "ExecuteTime": {
     "end_time": "2025-09-07T14:56:35.780810Z",
     "start_time": "2025-09-07T14:56:35.777872Z"
    }
   },
   "cell_type": "code",
   "source": "genus_proxies = torch.randn(150, embed_dim)",
   "id": "523ffc6bf78b1c76",
   "outputs": [],
   "execution_count": 45
  },
  {
   "metadata": {
    "ExecuteTime": {
     "end_time": "2025-09-07T14:57:22.870722Z",
     "start_time": "2025-09-07T14:57:22.865493Z"
    }
   },
   "cell_type": "code",
   "source": [
    "unique_species, inv_idx = torch.unique(T_species, return_inverse=True)\n",
    "unique_species"
   ],
   "id": "4d0bff8c9c1f5d3a",
   "outputs": [
    {
     "data": {
      "text/plain": [
       "tensor([  8,  48, 117, 122, 135, 141, 142, 147])"
      ]
     },
     "execution_count": 49,
     "metadata": {},
     "output_type": "execute_result"
    }
   ],
   "execution_count": 49
  },
  {
   "metadata": {
    "ExecuteTime": {
     "end_time": "2025-09-07T14:57:24.767461Z",
     "start_time": "2025-09-07T14:57:24.761281Z"
    }
   },
   "cell_type": "code",
   "source": [
    "species_proxies_unique = species_proxies[unique_species]\n",
    "species_proxies_unique"
   ],
   "id": "a578bb9ddfe59752",
   "outputs": [
    {
     "data": {
      "text/plain": [
       "tensor([[-0.0820, -1.9972,  0.7281, -0.0689,  0.1974],\n",
       "        [ 0.1255, -0.2164, -0.6359,  0.9720, -1.8192],\n",
       "        [-1.6939,  0.3302, -0.2294,  0.0596,  0.0245],\n",
       "        [ 1.1913,  0.1414,  0.4699, -1.3894, -0.5600],\n",
       "        [-0.9565,  0.7391, -0.7637,  0.4572,  0.6229],\n",
       "        [-0.2579, -0.9814,  0.3811, -2.3947, -0.0765],\n",
       "        [-1.1352,  0.3178,  0.0544,  0.6429,  0.1789],\n",
       "        [-1.4009,  1.8252,  0.1493, -0.2660, -1.0913]])"
      ]
     },
     "execution_count": 50,
     "metadata": {},
     "output_type": "execute_result"
    }
   ],
   "execution_count": 50
  },
  {
   "metadata": {
    "ExecuteTime": {
     "end_time": "2025-09-07T14:58:34.686869Z",
     "start_time": "2025-09-07T14:58:34.683054Z"
    }
   },
   "cell_type": "code",
   "source": [
    "dist_genus= pmath.dist_matrix(species_proxies_unique, genus_proxies, 0.01)\n",
    "dist_genus.shape"
   ],
   "id": "f14c06c291d6ed27",
   "outputs": [
    {
     "data": {
      "text/plain": [
       "torch.Size([8, 150])"
      ]
     },
     "execution_count": 54,
     "metadata": {},
     "output_type": "execute_result"
    }
   ],
   "execution_count": 54
  },
  {
   "metadata": {
    "ExecuteTime": {
     "end_time": "2025-09-07T14:54:14.560745Z",
     "start_time": "2025-09-07T14:54:14.558001Z"
    }
   },
   "cell_type": "code",
   "source": [
    "T_genus = torch.randint(0, 13, (8,))\n",
    "print(T_genus)"
   ],
   "id": "2664633065481ba5",
   "outputs": [
    {
     "name": "stdout",
     "output_type": "stream",
     "text": [
      "tensor([ 5,  9,  3,  3,  4, 11,  7,  1])\n"
     ]
    }
   ],
   "execution_count": 40
  },
  {
   "metadata": {
    "ExecuteTime": {
     "end_time": "2025-09-07T14:58:59.949093Z",
     "start_time": "2025-09-07T14:58:59.038664Z"
    }
   },
   "cell_type": "code",
   "source": [
    "import pandas as pd\n",
    "df = pd.read_csv(\"labeled_seen_gallery.csv\", sep=\"\\t\")\n",
    "species_to_genus = dict(zip(df[\"Species_ID\"], df[\"Genus_ID\"]))\n",
    "genus_targets = torch.tensor([species_to_genus[s.item()] for s in unique_species])\n",
    "print(genus_targets)"
   ],
   "id": "b2b1bb850277e90b",
   "outputs": [
    {
     "name": "stdout",
     "output_type": "stream",
     "text": [
      "tensor([ 9, 34,  9, 44,  0, 12, 18,  1])\n"
     ]
    }
   ],
   "execution_count": 55
  },
  {
   "metadata": {
    "ExecuteTime": {
     "end_time": "2025-09-07T15:00:40.924835Z",
     "start_time": "2025-09-07T15:00:40.919531Z"
    }
   },
   "cell_type": "code",
   "source": [
    "P_one_hot_genus = torch.nn.functional.one_hot(genus_targets, num_classes=60).float()\n",
    "print(P_one_hot_genus)"
   ],
   "id": "c179e707eb1bcedd",
   "outputs": [
    {
     "name": "stdout",
     "output_type": "stream",
     "text": [
      "tensor([[0., 0., 0., 0., 0., 0., 0., 0., 0., 1., 0., 0., 0., 0., 0., 0., 0., 0.,\n",
      "         0., 0., 0., 0., 0., 0., 0., 0., 0., 0., 0., 0., 0., 0., 0., 0., 0., 0.,\n",
      "         0., 0., 0., 0., 0., 0., 0., 0., 0., 0., 0., 0., 0., 0., 0., 0., 0., 0.,\n",
      "         0., 0., 0., 0., 0., 0.],\n",
      "        [0., 0., 0., 0., 0., 0., 0., 0., 0., 0., 0., 0., 0., 0., 0., 0., 0., 0.,\n",
      "         0., 0., 0., 0., 0., 0., 0., 0., 0., 0., 0., 0., 0., 0., 0., 0., 1., 0.,\n",
      "         0., 0., 0., 0., 0., 0., 0., 0., 0., 0., 0., 0., 0., 0., 0., 0., 0., 0.,\n",
      "         0., 0., 0., 0., 0., 0.],\n",
      "        [0., 0., 0., 0., 0., 0., 0., 0., 0., 1., 0., 0., 0., 0., 0., 0., 0., 0.,\n",
      "         0., 0., 0., 0., 0., 0., 0., 0., 0., 0., 0., 0., 0., 0., 0., 0., 0., 0.,\n",
      "         0., 0., 0., 0., 0., 0., 0., 0., 0., 0., 0., 0., 0., 0., 0., 0., 0., 0.,\n",
      "         0., 0., 0., 0., 0., 0.],\n",
      "        [0., 0., 0., 0., 0., 0., 0., 0., 0., 0., 0., 0., 0., 0., 0., 0., 0., 0.,\n",
      "         0., 0., 0., 0., 0., 0., 0., 0., 0., 0., 0., 0., 0., 0., 0., 0., 0., 0.,\n",
      "         0., 0., 0., 0., 0., 0., 0., 0., 1., 0., 0., 0., 0., 0., 0., 0., 0., 0.,\n",
      "         0., 0., 0., 0., 0., 0.],\n",
      "        [1., 0., 0., 0., 0., 0., 0., 0., 0., 0., 0., 0., 0., 0., 0., 0., 0., 0.,\n",
      "         0., 0., 0., 0., 0., 0., 0., 0., 0., 0., 0., 0., 0., 0., 0., 0., 0., 0.,\n",
      "         0., 0., 0., 0., 0., 0., 0., 0., 0., 0., 0., 0., 0., 0., 0., 0., 0., 0.,\n",
      "         0., 0., 0., 0., 0., 0.],\n",
      "        [0., 0., 0., 0., 0., 0., 0., 0., 0., 0., 0., 0., 1., 0., 0., 0., 0., 0.,\n",
      "         0., 0., 0., 0., 0., 0., 0., 0., 0., 0., 0., 0., 0., 0., 0., 0., 0., 0.,\n",
      "         0., 0., 0., 0., 0., 0., 0., 0., 0., 0., 0., 0., 0., 0., 0., 0., 0., 0.,\n",
      "         0., 0., 0., 0., 0., 0.],\n",
      "        [0., 0., 0., 0., 0., 0., 0., 0., 0., 0., 0., 0., 0., 0., 0., 0., 0., 0.,\n",
      "         1., 0., 0., 0., 0., 0., 0., 0., 0., 0., 0., 0., 0., 0., 0., 0., 0., 0.,\n",
      "         0., 0., 0., 0., 0., 0., 0., 0., 0., 0., 0., 0., 0., 0., 0., 0., 0., 0.,\n",
      "         0., 0., 0., 0., 0., 0.],\n",
      "        [0., 1., 0., 0., 0., 0., 0., 0., 0., 0., 0., 0., 0., 0., 0., 0., 0., 0.,\n",
      "         0., 0., 0., 0., 0., 0., 0., 0., 0., 0., 0., 0., 0., 0., 0., 0., 0., 0.,\n",
      "         0., 0., 0., 0., 0., 0., 0., 0., 0., 0., 0., 0., 0., 0., 0., 0., 0., 0.,\n",
      "         0., 0., 0., 0., 0., 0.]])\n"
     ]
    }
   ],
   "execution_count": 57
  },
  {
   "metadata": {
    "ExecuteTime": {
     "end_time": "2025-09-07T10:31:33.615942Z",
     "start_time": "2025-09-07T10:31:33.608482Z"
    }
   },
   "cell_type": "code",
   "source": [
    "N_one_hot_genus = 1 - P_one_hot_genus\n",
    "N_one_hot_genus"
   ],
   "id": "8f9eeff609b6194e",
   "outputs": [
    {
     "data": {
      "text/plain": [
       "tensor([[1., 1., 0.],\n",
       "        [0., 1., 1.],\n",
       "        [1., 0., 1.],\n",
       "        [1., 0., 1.]])"
      ]
     },
     "execution_count": 8,
     "metadata": {},
     "output_type": "execute_result"
    }
   ],
   "execution_count": 8
  },
  {
   "metadata": {
    "ExecuteTime": {
     "end_time": "2025-09-07T15:01:53.800536Z",
     "start_time": "2025-09-07T15:01:53.795190Z"
    }
   },
   "cell_type": "code",
   "source": [
    "valid_genus_proxies_mask=(P_one_hot_genus.sum(dim=0) != 0).float()\n",
    "valid_genus_proxies_mask\n",
    "\n",
    "num_valid_genus_proxies = valid_genus_proxies_mask.sum().clamp(min=1.0)\n",
    "print(num_valid_genus_proxies)"
   ],
   "id": "c9da27b321d5e6d0",
   "outputs": [
    {
     "name": "stdout",
     "output_type": "stream",
     "text": [
      "tensor(7.)\n"
     ]
    }
   ],
   "execution_count": 59
  },
  {
   "metadata": {
    "ExecuteTime": {
     "end_time": "2025-09-07T12:57:09.508040Z",
     "start_time": "2025-09-07T12:57:09.481637Z"
    }
   },
   "cell_type": "code",
   "source": "torch.nn.functional.softplus(dist_genus)* P_one_hot_genus",
   "id": "bb1528dccc0b0198",
   "outputs": [
    {
     "ename": "RuntimeError",
     "evalue": "The size of tensor a (6) must match the size of tensor b (4) at non-singleton dimension 0",
     "output_type": "error",
     "traceback": [
      "\u001B[0;31m---------------------------------------------------------------------------\u001B[0m",
      "\u001B[0;31mRuntimeError\u001B[0m                              Traceback (most recent call last)",
      "Cell \u001B[0;32mIn[15], line 1\u001B[0m\n\u001B[0;32m----> 1\u001B[0m \u001B[43mtorch\u001B[49m\u001B[38;5;241;43m.\u001B[39;49m\u001B[43mnn\u001B[49m\u001B[38;5;241;43m.\u001B[39;49m\u001B[43mfunctional\u001B[49m\u001B[38;5;241;43m.\u001B[39;49m\u001B[43msoftplus\u001B[49m\u001B[43m(\u001B[49m\u001B[43mdist_genus\u001B[49m\u001B[43m)\u001B[49m\u001B[38;5;241;43m*\u001B[39;49m\u001B[43m \u001B[49m\u001B[43mP_one_hot_genus\u001B[49m\n",
      "\u001B[0;31mRuntimeError\u001B[0m: The size of tensor a (6) must match the size of tensor b (4) at non-singleton dimension 0"
     ]
    }
   ],
   "execution_count": 15
  },
  {
   "metadata": {
    "ExecuteTime": {
     "end_time": "2025-09-07T12:58:53.430497Z",
     "start_time": "2025-09-07T12:58:53.427161Z"
    }
   },
   "cell_type": "code",
   "source": "P_one_hot_genus",
   "id": "b31bdfaae6eaec2a",
   "outputs": [
    {
     "data": {
      "text/plain": [
       "tensor([[0., 0., 1.],\n",
       "        [1., 0., 0.],\n",
       "        [0., 1., 0.],\n",
       "        [0., 1., 0.]])"
      ]
     },
     "execution_count": 17,
     "metadata": {},
     "output_type": "execute_result"
    }
   ],
   "execution_count": 17
  },
  {
   "metadata": {
    "ExecuteTime": {
     "end_time": "2025-09-07T10:32:44.848283Z",
     "start_time": "2025-09-07T10:32:44.624473Z"
    }
   },
   "cell_type": "code",
   "source": "pos_genus_term=torch.sum(torch.nn.functional.softplus(dist_genus) * P_one_hot_genus) / num_valid_genus_proxies",
   "id": "8b96d2f1a8a40184",
   "outputs": [
    {
     "ename": "RuntimeError",
     "evalue": "The size of tensor a (6) must match the size of tensor b (4) at non-singleton dimension 0",
     "output_type": "error",
     "traceback": [
      "\u001B[0;31m---------------------------------------------------------------------------\u001B[0m",
      "\u001B[0;31mRuntimeError\u001B[0m                              Traceback (most recent call last)",
      "Cell \u001B[0;32mIn[11], line 1\u001B[0m\n\u001B[0;32m----> 1\u001B[0m pos_genus_term\u001B[38;5;241m=\u001B[39mtorch\u001B[38;5;241m.\u001B[39msum(\u001B[43mtorch\u001B[49m\u001B[38;5;241;43m.\u001B[39;49m\u001B[43mnn\u001B[49m\u001B[38;5;241;43m.\u001B[39;49m\u001B[43mfunctional\u001B[49m\u001B[38;5;241;43m.\u001B[39;49m\u001B[43msoftplus\u001B[49m\u001B[43m(\u001B[49m\u001B[43mdist_genus\u001B[49m\u001B[43m)\u001B[49m\u001B[43m \u001B[49m\u001B[38;5;241;43m*\u001B[39;49m\u001B[43m \u001B[49m\u001B[43mP_one_hot_genus\u001B[49m) \u001B[38;5;241m/\u001B[39m num_valid_genus_proxies\n",
      "\u001B[0;31mRuntimeError\u001B[0m: The size of tensor a (6) must match the size of tensor b (4) at non-singleton dimension 0"
     ]
    }
   ],
   "execution_count": 11
  },
  {
   "metadata": {
    "ExecuteTime": {
     "end_time": "2025-09-07T14:36:47.923549Z",
     "start_time": "2025-09-07T14:36:47.098852Z"
    }
   },
   "cell_type": "code",
   "source": [
    "import pandas as pd\n",
    "df=pd.read_csv(\"labeled_seen_gallery.csv\",sep=\"\\t\")\n",
    "df"
   ],
   "id": "1c0c9d43679738af",
   "outputs": [
    {
     "data": {
      "text/plain": [
       "               Sample                     Species HQ  Species_ID  \\\n",
       "0        SAMN10221109            Escherichia coli  T           0   \n",
       "1        SAMEA3507073      Neisseria meningitidis  T           1   \n",
       "2        SAMN31671018         Salmonella enterica  T           2   \n",
       "3        SAMN02570323     Acinetobacter baumannii  T           3   \n",
       "4        SAMN30543411  Mycobacterium tuberculosis  T           4   \n",
       "...               ...                         ... ..         ...   \n",
       "1438397  SAMN08607286         Salmonella enterica  T           2   \n",
       "1438398  SAMEA3171026    Streptococcus pneumoniae  T          10   \n",
       "1438399  SAMN10895949         Salmonella enterica  T           2   \n",
       "1438400  SAMN17138828         Salmonella enterica  T           2   \n",
       "1438401  SAMN31662491            Escherichia coli  T           0   \n",
       "\n",
       "                 Genus  Genus_ID  \n",
       "0          Escherichia        28  \n",
       "1            Neisseria        31  \n",
       "2           Salmonella         3  \n",
       "3        Acinetobacter        18  \n",
       "4        Mycobacterium        29  \n",
       "...                ...       ...  \n",
       "1438397     Salmonella         3  \n",
       "1438398  Streptococcus        43  \n",
       "1438399     Salmonella         3  \n",
       "1438400     Salmonella         3  \n",
       "1438401    Escherichia        28  \n",
       "\n",
       "[1438402 rows x 6 columns]"
      ],
      "text/html": [
       "<div>\n",
       "<style scoped>\n",
       "    .dataframe tbody tr th:only-of-type {\n",
       "        vertical-align: middle;\n",
       "    }\n",
       "\n",
       "    .dataframe tbody tr th {\n",
       "        vertical-align: top;\n",
       "    }\n",
       "\n",
       "    .dataframe thead th {\n",
       "        text-align: right;\n",
       "    }\n",
       "</style>\n",
       "<table border=\"1\" class=\"dataframe\">\n",
       "  <thead>\n",
       "    <tr style=\"text-align: right;\">\n",
       "      <th></th>\n",
       "      <th>Sample</th>\n",
       "      <th>Species</th>\n",
       "      <th>HQ</th>\n",
       "      <th>Species_ID</th>\n",
       "      <th>Genus</th>\n",
       "      <th>Genus_ID</th>\n",
       "    </tr>\n",
       "  </thead>\n",
       "  <tbody>\n",
       "    <tr>\n",
       "      <th>0</th>\n",
       "      <td>SAMN10221109</td>\n",
       "      <td>Escherichia coli</td>\n",
       "      <td>T</td>\n",
       "      <td>0</td>\n",
       "      <td>Escherichia</td>\n",
       "      <td>28</td>\n",
       "    </tr>\n",
       "    <tr>\n",
       "      <th>1</th>\n",
       "      <td>SAMEA3507073</td>\n",
       "      <td>Neisseria meningitidis</td>\n",
       "      <td>T</td>\n",
       "      <td>1</td>\n",
       "      <td>Neisseria</td>\n",
       "      <td>31</td>\n",
       "    </tr>\n",
       "    <tr>\n",
       "      <th>2</th>\n",
       "      <td>SAMN31671018</td>\n",
       "      <td>Salmonella enterica</td>\n",
       "      <td>T</td>\n",
       "      <td>2</td>\n",
       "      <td>Salmonella</td>\n",
       "      <td>3</td>\n",
       "    </tr>\n",
       "    <tr>\n",
       "      <th>3</th>\n",
       "      <td>SAMN02570323</td>\n",
       "      <td>Acinetobacter baumannii</td>\n",
       "      <td>T</td>\n",
       "      <td>3</td>\n",
       "      <td>Acinetobacter</td>\n",
       "      <td>18</td>\n",
       "    </tr>\n",
       "    <tr>\n",
       "      <th>4</th>\n",
       "      <td>SAMN30543411</td>\n",
       "      <td>Mycobacterium tuberculosis</td>\n",
       "      <td>T</td>\n",
       "      <td>4</td>\n",
       "      <td>Mycobacterium</td>\n",
       "      <td>29</td>\n",
       "    </tr>\n",
       "    <tr>\n",
       "      <th>...</th>\n",
       "      <td>...</td>\n",
       "      <td>...</td>\n",
       "      <td>...</td>\n",
       "      <td>...</td>\n",
       "      <td>...</td>\n",
       "      <td>...</td>\n",
       "    </tr>\n",
       "    <tr>\n",
       "      <th>1438397</th>\n",
       "      <td>SAMN08607286</td>\n",
       "      <td>Salmonella enterica</td>\n",
       "      <td>T</td>\n",
       "      <td>2</td>\n",
       "      <td>Salmonella</td>\n",
       "      <td>3</td>\n",
       "    </tr>\n",
       "    <tr>\n",
       "      <th>1438398</th>\n",
       "      <td>SAMEA3171026</td>\n",
       "      <td>Streptococcus pneumoniae</td>\n",
       "      <td>T</td>\n",
       "      <td>10</td>\n",
       "      <td>Streptococcus</td>\n",
       "      <td>43</td>\n",
       "    </tr>\n",
       "    <tr>\n",
       "      <th>1438399</th>\n",
       "      <td>SAMN10895949</td>\n",
       "      <td>Salmonella enterica</td>\n",
       "      <td>T</td>\n",
       "      <td>2</td>\n",
       "      <td>Salmonella</td>\n",
       "      <td>3</td>\n",
       "    </tr>\n",
       "    <tr>\n",
       "      <th>1438400</th>\n",
       "      <td>SAMN17138828</td>\n",
       "      <td>Salmonella enterica</td>\n",
       "      <td>T</td>\n",
       "      <td>2</td>\n",
       "      <td>Salmonella</td>\n",
       "      <td>3</td>\n",
       "    </tr>\n",
       "    <tr>\n",
       "      <th>1438401</th>\n",
       "      <td>SAMN31662491</td>\n",
       "      <td>Escherichia coli</td>\n",
       "      <td>T</td>\n",
       "      <td>0</td>\n",
       "      <td>Escherichia</td>\n",
       "      <td>28</td>\n",
       "    </tr>\n",
       "  </tbody>\n",
       "</table>\n",
       "<p>1438402 rows × 6 columns</p>\n",
       "</div>"
      ]
     },
     "execution_count": 22,
     "metadata": {},
     "output_type": "execute_result"
    }
   ],
   "execution_count": 22
  },
  {
   "metadata": {
    "ExecuteTime": {
     "end_time": "2025-09-07T14:37:51.099736Z",
     "start_time": "2025-09-07T14:37:50.988223Z"
    }
   },
   "cell_type": "code",
   "source": [
    "species_to_genus=dict(zip(df[\"Species_ID\"],df[\"Genus_ID\"]))\n",
    "len(species_to_genus)"
   ],
   "id": "955abd1107de7f77",
   "outputs": [
    {
     "data": {
      "text/plain": [
       "154"
      ]
     },
     "execution_count": 25,
     "metadata": {},
     "output_type": "execute_result"
    }
   ],
   "execution_count": 25
  }
 ],
 "metadata": {
  "kernelspec": {
   "display_name": "Python 3",
   "language": "python",
   "name": "python3"
  },
  "language_info": {
   "codemirror_mode": {
    "name": "ipython",
    "version": 2
   },
   "file_extension": ".py",
   "mimetype": "text/x-python",
   "name": "python",
   "nbconvert_exporter": "python",
   "pygments_lexer": "ipython2",
   "version": "2.7.6"
  }
 },
 "nbformat": 4,
 "nbformat_minor": 5
}
